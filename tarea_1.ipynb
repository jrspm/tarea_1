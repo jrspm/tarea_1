{
 "cells": [
  {
   "attachments": {},
   "cell_type": "markdown",
   "metadata": {},
   "source": [
    "# <center>USAR GIT</center>"
   ]
  },
  {
   "attachments": {},
   "cell_type": "markdown",
   "metadata": {},
   "source": [
    "#### <center>1.INSTALAR GIT</center>"
   ]
  },
  {
   "attachments": {},
   "cell_type": "markdown",
   "metadata": {},
   "source": [
    "Se debe descargar de la siguiente página el instalador de git para windows https://git-scm.com/download/win. Una vez descargado el software, se debe instalar en la PC. \n",
    "\n",
    "\n",
    "<img src=\"INSTAL.png\">"
   ]
  },
  {
   "attachments": {},
   "cell_type": "markdown",
   "metadata": {},
   "source": [
    "Despues de instalar GIT, vamos en la carpeta donde deseamos incializar git, dando click derecho seleccionamos **Git GUI Here**, tal y como se muestra en la siguiente figura. <img src=\"git_gui_here.png\">"
   ]
  },
  {
   "attachments": {},
   "cell_type": "markdown",
   "metadata": {},
   "source": [
    "Se abrira la ventana para crear un nuevo repositorio, despues se abrira una nueva ventana y debemos confirmar la dirección de la carpeta. \n",
    "\n",
    "<img src=\"create_new_repository.png\">\n",
    "<img src=\"create_new_repository_url.png\">"
   ]
  },
  {
   "attachments": {},
   "cell_type": "markdown",
   "metadata": {},
   "source": [
    "El siguiente paso es inicializar git en Visual Studio Code, por lo que debemos crear un archivo en Visual Studio Code y abrir la terminal. Se debe usar CTRL-ñ para que se abrá la terminal en Visual Studio Code.  Nos debe aparecer la consola, en ella seleccionamos del desplegable a la par del botón de + y seleccionamos Git Bash. <img src=\"terminal.png\"> <img src=\"git_bash.png\">"
   ]
  },
  {
   "attachments": {},
   "cell_type": "markdown",
   "metadata": {},
   "source": [
    "#### <center>2.Actualizar archivos local</center>"
   ]
  },
  {
   "attachments": {},
   "cell_type": "markdown",
   "metadata": {},
   "source": [
    "Escribimos en la terminal **git init**, para inicializar git. <img src=\"git_init.png\">"
   ]
  },
  {
   "attachments": {},
   "cell_type": "markdown",
   "metadata": {},
   "source": [
    "Para ir actulizando cada cambio, aparecerá una U de los archivos que han tenido algun cambio que se pueda actualizar o guardar <img src=\"commit.png\">. \n",
    "\n",
    "\n",
    "\n",
    "Para ello se le da click en commit <img src=\"commit_2.png\">. "
   ]
  },
  {
   "attachments": {},
   "cell_type": "markdown",
   "metadata": {},
   "source": [
    "Al estar guardados los cambios se verá una letra A <img src=\"actualizacion.png\">. "
   ]
  },
  {
   "attachments": {},
   "cell_type": "markdown",
   "metadata": {},
   "source": [
    "Despues de realizar algún cambio, para actualizar se debe ir a la parte de arriba en los tres puntos ... y seleccionar **Changes** y dar click en **Stage All Changes** <img src=\"stage_all_changes.png\">. "
   ]
  },
  {
   "attachments": {},
   "cell_type": "markdown",
   "metadata": {},
   "source": [
    "#### <center>3.Actualizar archivos online</center>"
   ]
  },
  {
   "attachments": {},
   "cell_type": "markdown",
   "metadata": {},
   "source": [
    "Se debe crear una cuenta en github https://github.com/. Al crear la cuenta se debe crear un nuevo repositorio, dando click en lista desplegable de la esquina superior derecha. \n",
    "\n",
    "<img src=\"new_repository.png\">"
   ]
  },
  {
   "attachments": {},
   "cell_type": "markdown",
   "metadata": {},
   "source": [
    "Al crear el nuevo repositorio se deben llenar los siguientes campos. \n",
    "\n",
    "1. Nombre del repositorio.\n",
    "2. Seleccionar si es publico o privado.\n",
    "3. Agregar o no, un archivo de descripcción (README file).\n",
    "4. Elegir un tipo de licencia. \n",
    "Crear el repositorio. \n",
    "\n",
    "<img src=\"new_repository_2.png\">\n",
    "\n"
   ]
  },
  {
   "attachments": {},
   "cell_type": "markdown",
   "metadata": {},
   "source": [
    "Despues de creado el repositorio aparareceran los siguientes comandos que debemos escribir en la consola de git, para poder conectarla con el trabajo que estamos haciendo. \n",
    "\n",
    "<img src=\"git_commands.png\">"
   ]
  },
  {
   "attachments": {},
   "cell_type": "markdown",
   "metadata": {},
   "source": [
    "Despues de crear el repositorio en linea, se debe de conectar al repositorio local, para ello se vuelve a abrir la consola en Visual Studio Code usando CTRL+ñ, en la consola se escribe los siguientes comando y darle enter. \n",
    "\n",
    "\n",
    "1. **git remote add origin https://github.com/jrspm/tarea_1.git**\n",
    "2. **git commit -m \"first commit\"**\n",
    "3. **git branch -M main**\n",
    "4. **git remote add origin https://github.com/jrspm/tarea_1.git**\n",
    "5. **git push -u origin main**\n",
    "\n",
    "Y debería aparecer que ya se actualizaron los cambios. \n",
    "\n",
    "<img src=\"actualizacion_1.png\">"
   ]
  }
 ],
 "metadata": {
  "language_info": {
   "name": "python"
  },
  "orig_nbformat": 4
 },
 "nbformat": 4,
 "nbformat_minor": 2
}
