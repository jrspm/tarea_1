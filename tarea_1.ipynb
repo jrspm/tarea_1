{
 "cells": [
  {
   "attachments": {},
   "cell_type": "markdown",
   "metadata": {},
   "source": [
    "BY JOSÉ RICARDO MÉRIDA LÓPEZ \n",
    "CARNÉ 23006385\n",
    "Ciencia de Datos en Python, Seccion V"
   ]
  },
  {
   "attachments": {},
   "cell_type": "markdown",
   "metadata": {},
   "source": [
    "# <center>USAR GIT</center>"
   ]
  },
  {
   "attachments": {},
   "cell_type": "markdown",
   "metadata": {},
   "source": [
    "#### <center>RESUMEN</center>"
   ]
  },
  {
   "attachments": {},
   "cell_type": "markdown",
   "metadata": {},
   "source": [
    "Al realizar la investigación de como utilizar GIT y GITHUB, se observo que es importante verificar que los cambios se hayan guardado, ya que es posible que no siempre estos cambios se actulicen, por lo que hay que tener especial cuidado con ello. Es necesario investigar de forma mas profunda como utilizar las ramas, ya que por lo que pude observar es una manera de ir construyendo el proyecto como en diferentes lineas de actualizacion, ya que es posible que alguna de las actualizaciones que le hagamos a nuestro sistema, esta actualización haga que entre en conflicto con otros modulos que ya se hayan creado antes, por lo que el tener ramas, es como tener lineas temporales a las que podemos regresar y verificar desde donde nos quedamos al inicio, antes de la actualización. \n",
    "\n",
    "Por lo general si se usa GIT solo para sobre escribir los archivos, lo unico que pasará es que no se volverá a subir lo que ya se habia hecho, si no unicamente se cargará al repositorio lo nuevo o lo actualizado, GIT tambien permite descartar algunos archivos, esto significa que no se subiran, porque puede que los tengamos como una parte confidencial del proyecto, o porque simplemente no aporta nada a los archivos que si son utilizados para el funcionamiento del sistema, pero que puede que nos sirvan para realizar pruebas o comentarios. "
   ]
  },
  {
   "attachments": {},
   "cell_type": "markdown",
   "metadata": {},
   "source": [
    "#### <center>CONCLUSIONES</center>"
   ]
  },
  {
   "attachments": {},
   "cell_type": "markdown",
   "metadata": {},
   "source": [
    "Usar git, permite que en tiempo real podamos subir nuestras actualizaciones y que los demas colaboradores del proyecto puedan tener acceso a ellas. \n",
    "\n",
    "Hay que tener especial cuidado con verificar que las actualizaciones se hayan cargado al repositorio. \n",
    "\n",
    "Cuando no se desea que un archivo se guarde en el repositorio se puede dejar en una lista de archivos descartados, lo que hará que git los ignore. "
   ]
  },
  {
   "attachments": {},
   "cell_type": "markdown",
   "metadata": {},
   "source": [
    "#### <center>COMENTARIOS</center>"
   ]
  },
  {
   "attachments": {},
   "cell_type": "markdown",
   "metadata": {},
   "source": [
    "Es importante investigar sobre las ramas y la forma de utilizarlas, porque nos permitiran regresar a puntos dentro del proyecto, donde el sistema no entraba en conflicto con las nuevas actualizaciones, pero no hay abusar de utilizarlas.  "
   ]
  },
  {
   "attachments": {},
   "cell_type": "markdown",
   "metadata": {},
   "source": [
    "#### <center>GUIA PARA USAR GIT</center>"
   ]
  },
  {
   "attachments": {},
   "cell_type": "markdown",
   "metadata": {},
   "source": [
    "#### <center>1.INSTALAR GIT</center>"
   ]
  },
  {
   "attachments": {},
   "cell_type": "markdown",
   "metadata": {},
   "source": [
    "Se debe descargar de la siguiente página el instalador de git para windows https://git-scm.com/download/win. Una vez descargado el software, se debe instalar en la PC. \n",
    "\n",
    "\n",
    "<img src=\"INSTAL.png\">"
   ]
  },
  {
   "attachments": {},
   "cell_type": "markdown",
   "metadata": {},
   "source": [
    "Despues de instalar GIT, vamos en la carpeta donde deseamos incializar git, dando click derecho seleccionamos **Git GUI Here**, tal y como se muestra en la siguiente figura. <img src=\"git_gui_here.png\">"
   ]
  },
  {
   "attachments": {},
   "cell_type": "markdown",
   "metadata": {},
   "source": [
    "Se abrira la ventana para crear un nuevo repositorio, despues se abrira una nueva ventana y debemos confirmar la dirección de la carpeta. \n",
    "\n",
    "<img src=\"create_new_repository.png\">\n",
    "<img src=\"create_new_repository_url.png\">"
   ]
  },
  {
   "attachments": {},
   "cell_type": "markdown",
   "metadata": {},
   "source": [
    "El siguiente paso es inicializar git en Visual Studio Code, por lo que debemos crear un archivo en Visual Studio Code y abrir la terminal. Se debe usar CTRL-ñ para que se abrá la terminal en Visual Studio Code.  Nos debe aparecer la consola, en ella seleccionamos del desplegable a la par del botón de + y seleccionamos Git Bash. <img src=\"terminal.png\"> <img src=\"git_bash.png\">"
   ]
  },
  {
   "attachments": {},
   "cell_type": "markdown",
   "metadata": {},
   "source": [
    "#### <center>2.Actualizar archivos local</center>"
   ]
  },
  {
   "attachments": {},
   "cell_type": "markdown",
   "metadata": {},
   "source": [
    "Escribimos en la terminal **git init**, para inicializar git. <img src=\"git_init.png\">"
   ]
  },
  {
   "attachments": {},
   "cell_type": "markdown",
   "metadata": {},
   "source": [
    "Para ir actulizando cada cambio, aparecerá una U de los archivos que han tenido algun cambio que se pueda actualizar o guardar <img src=\"commit.png\">. \n",
    "\n",
    "\n",
    "\n",
    "Para ello se le da click en commit <img src=\"commit_2.png\">. "
   ]
  },
  {
   "attachments": {},
   "cell_type": "markdown",
   "metadata": {},
   "source": [
    "Al estar guardados los cambios se verá una letra A <img src=\"actualizacion.png\">. "
   ]
  },
  {
   "attachments": {},
   "cell_type": "markdown",
   "metadata": {},
   "source": [
    "Despues de realizar algún cambio, para actualizar se debe ir a la parte de arriba en los tres puntos ... y seleccionar **Changes** y dar click en **Stage All Changes** <img src=\"stage_all_changes.png\">. "
   ]
  },
  {
   "attachments": {},
   "cell_type": "markdown",
   "metadata": {},
   "source": [
    "#### <center>3.Actualizar archivos online</center>"
   ]
  },
  {
   "attachments": {},
   "cell_type": "markdown",
   "metadata": {},
   "source": [
    "Se debe crear una cuenta en github https://github.com/. Al crear la cuenta se debe crear un nuevo repositorio, dando click en lista desplegable de la esquina superior derecha. \n",
    "\n",
    "<img src=\"new_repository.png\">"
   ]
  },
  {
   "attachments": {},
   "cell_type": "markdown",
   "metadata": {},
   "source": [
    "Al crear el nuevo repositorio se deben llenar los siguientes campos. \n",
    "\n",
    "1. Nombre del repositorio.\n",
    "2. Seleccionar si es publico o privado.\n",
    "3. Agregar o no, un archivo de descripcción (README file).\n",
    "4. Elegir un tipo de licencia. \n",
    "Crear el repositorio. \n",
    "\n",
    "<img src=\"new_repository_2.png\">\n",
    "\n"
   ]
  },
  {
   "attachments": {},
   "cell_type": "markdown",
   "metadata": {},
   "source": [
    "Despues de creado el repositorio aparareceran los siguientes comandos que debemos escribir en la consola de git, para poder conectarla con el trabajo que estamos haciendo. \n",
    "\n",
    "<img src=\"git_commands.png\">"
   ]
  },
  {
   "attachments": {},
   "cell_type": "markdown",
   "metadata": {},
   "source": [
    "Despues de crear el repositorio en linea, se debe de conectar al repositorio local, para ello se vuelve a abrir la consola en Visual Studio Code usando CTRL+ñ, en la consola se escribe los siguientes comando y darle enter. \n",
    "\n",
    "\n",
    "1. **git remote add origin https://github.com/jrspm/tarea_1.git**\n",
    "2. **git commit -m \"first commit\"**\n",
    "3. **git branch -M main**\n",
    "4. **git remote add origin https://github.com/jrspm/tarea_1.git**\n",
    "5. **git push -u origin main**\n",
    "\n",
    "Y debería aparecer que ya se actualizaron los cambios. \n",
    "\n",
    "<img src=\"actualizacion_1.png\">"
   ]
  },
  {
   "attachments": {},
   "cell_type": "markdown",
   "metadata": {},
   "source": [
    "Para ir haciendo las actualizaciones se debe de escribir los siguientes pasos.\n",
    "\n",
    "1. En los tres puntos del navegador de los archivos, dar click en las opciones Stage/Stage All Changes\n",
    "2. Escribir en la consola los siguientes comandos\n",
    "\n",
    "\n",
    "    1. git commit -m \"nombre_actualizacion\"\n",
    "    2. git push -u origin main\n",
    "\n",
    "Y si ahora vemos, aparece la actualización. \n",
    "\n",
    "<img src=\"actualizacion_3.png\">\n"
   ]
  }
 ],
 "metadata": {
  "language_info": {
   "name": "python"
  },
  "orig_nbformat": 4
 },
 "nbformat": 4,
 "nbformat_minor": 2
}
